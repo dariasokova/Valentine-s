{
  "nbformat": 4,
  "nbformat_minor": 0,
  "metadata": {
    "colab": {
      "provenance": [],
      "include_colab_link": true
    },
    "kernelspec": {
      "name": "python3",
      "display_name": "Python 3"
    },
    "language_info": {
      "name": "python"
    }
  },
  "cells": [
    {
      "cell_type": "markdown",
      "metadata": {
        "id": "view-in-github",
        "colab_type": "text"
      },
      "source": [
        "<a href=\"https://colab.research.google.com/github/dariasokova/Valentine-s/blob/main/ASR_exercise.ipynb\" target=\"_parent\"><img src=\"https://colab.research.google.com/assets/colab-badge.svg\" alt=\"Open In Colab\"/></a>"
      ]
    },
    {
      "cell_type": "markdown",
      "source": [
        "# 1. Installation"
      ],
      "metadata": {
        "id": "sX9_YgJ450fG"
      }
    },
    {
      "cell_type": "code",
      "source": [
        "!pip install transformers datasets evaluate torch gradio accelerate"
      ],
      "metadata": {
        "id": "5kekfIps57C7"
      },
      "execution_count": null,
      "outputs": []
    }
  ]
}